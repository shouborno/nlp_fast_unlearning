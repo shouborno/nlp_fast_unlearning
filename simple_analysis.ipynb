{
  "cells": [
    {
      "cell_type": "code",
      "execution_count": 1,
      "metadata": {
        "collapsed": false
      },
      "outputs": [
        {
          "data": {
            "text/plain": [
              "<All keys matched successfully>"
            ]
          },
          "execution_count": 1,
          "metadata": {},
          "output_type": "execute_result"
        }
      ],
      "source": [
        "import torch\n",
        "from nlp_fast_unlearning.utils import prepare_dbpedia, build_noisy_dl, ensure_deterministic, DEVICE, BATCH_SIZE\n",
        "from nlp_fast_unlearning.baseline_model import TextClassificationModel\n",
        "\n",
        "_, _, _, dbpedia_vocab = prepare_dbpedia(for_baseline_only=True)\n",
        "\n",
        "vocab_size = dbpedia_vocab.vocab_size\n",
        "\n",
        "baseline_name = \"DBpedia_baseline.pt\"\n",
        "unlearning_model = TextClassificationModel(vocab_size).to(DEVICE)\n",
        "unlearning_model.load_state_dict(torch.load(baseline_name))"
      ]
    },
    {
      "cell_type": "code",
      "execution_count": 2,
      "metadata": {},
      "outputs": [
        {
          "name": "stdout",
          "output_type": "stream",
          "text": [
            "Searching for error maximizing noise for class  1\n",
            "Got loss 222.51974487304688 for tensor([101, 101, 101, 101, 101, 101, 101, 101, 101, 101, 101, 101, 101, 101,\n",
            "        101, 101, 101, 101, 101, 101, 101, 101, 101, 101, 101, 101, 101, 101,\n",
            "        101, 101, 101, 101, 101, 101, 101, 101, 101, 101, 101, 101, 101, 101,\n",
            "        101, 101, 101, 101, 101, 101, 101, 101, 101, 101, 101, 101, 101, 101,\n",
            "        101, 101, 101, 101, 101, 101, 101, 101, 101, 101, 101, 101, 101, 101,\n",
            "        101, 101, 101, 101, 101, 101, 101, 101, 101, 101, 101, 101, 101, 101,\n",
            "        101, 101, 101, 101, 101, 101, 101, 101, 101, 101, 101, 101, 101, 101,\n",
            "        101, 101], device='cuda:0')\n",
            "Searching for error maximizing noise for class  3\n",
            "Got loss 201.43650817871094 for tensor([101, 101, 101, 101, 101, 101, 101, 101, 101, 101, 101, 101, 101, 101,\n",
            "        101, 101, 101, 101, 101, 101, 101, 101, 101, 101, 101, 101, 101, 101,\n",
            "        101, 101, 101, 101, 101, 101, 101, 101, 101, 101, 101, 101, 101, 101,\n",
            "        101, 101, 101, 101, 101, 101, 101, 101, 101, 101, 101, 101, 101, 101,\n",
            "        101, 101, 101, 101, 101, 101, 101, 101, 101, 101, 101, 101, 101, 101,\n",
            "        101, 101, 101, 101, 101, 101, 101, 101, 101, 101, 101, 101, 101, 101,\n",
            "        101, 101, 101, 101, 101, 101, 101, 101, 101, 101, 101, 101, 101, 101,\n",
            "        101, 101], device='cuda:0')\n",
            "Class 1 (Company) original samples: 37965\n",
            "Class 2 (EducationalInstitution) original samples: 38032\n",
            "Class 3 (Artist) original samples: 38046\n",
            "Class 4 (Athlete) original samples: 38007\n",
            "Class 5 (OfficeHolder) original samples: 38000\n",
            "Class 6 (MeanOfTransportation) original samples: 38070\n",
            "Class 7 (Building) original samples: 38035\n",
            "Class 8 (NaturalPlace) original samples: 37970\n",
            "Class 9 (Village) original samples: 37992\n",
            "Class 10 (Animal) original samples: 38016\n",
            "Class 11 (Plant) original samples: 37931\n",
            "Class 12 (Album) original samples: 37917\n",
            "Class 13 (Film) original samples: 37994\n",
            "Class 14 (WrittenWork) original samples: 38025\n",
            "CPU times: user 38.7 s, sys: 375 ms, total: 39.1 s\n",
            "Wall time: 38.8 s\n"
          ]
        }
      ],
      "source": [
        "%%time\n",
        "\n",
        "(\n",
        "    retain_samples,\n",
        "    noisy_data,\n",
        "    retain_valid_dl,\n",
        "    forget_valid_dl,\n",
        "    retain_test_dl,\n",
        "    forget_test_dl,\n",
        "    dbpedia_vocab,\n",
        ") = prepare_dbpedia(\n",
        "    for_baseline_only=False,\n",
        "    classes_to_forget=[1, 3],\n",
        "    model=unlearning_model,\n",
        "    retain_percentage=0.01,\n",
        "    vocab_class=dbpedia_vocab,\n",
        ")"
      ]
    },
    {
      "cell_type": "code",
      "execution_count": 67,
      "metadata": {},
      "outputs": [],
      "source": [
        "def accuracy(outputs, labels):\n",
        "    _, preds = torch.max(outputs, dim=1)\n",
        "    return torch.tensor(torch.sum(preds == labels).item() / len(preds))\n",
        "\n",
        "\n",
        "def validation_step(model, batch):\n",
        "    labels, text, offsets = batch\n",
        "    out = model(text,offsets)\n",
        "    loss = F.cross_entropy(out, labels)\n",
        "    _, preds = torch.max(out, dim=1)\n",
        "    acc = torch.tensor(torch.sum(preds == labels).item() / len(preds))\n",
        "    pred_counts = torch.bincount(preds)\n",
        "    if len(pred_counts) < 14:\n",
        "        pred_counts = torch.stack([pred_counts,torch.zeros((14-len(pred_counts))).to(DEVICE)])\n",
        "    return {'Loss': loss.detach(), 'Acc': acc, \"Count\": pred_counts}\n",
        "\n",
        "\n",
        "def validation_epoch_end(model, outputs):\n",
        "    batch_losses = [x['Loss'] for x in outputs]\n",
        "    epoch_loss = torch.stack(batch_losses).mean()  \n",
        "    batch_accs = [x['Acc'] for x in outputs]\n",
        "    epoch_acc = torch.stack(batch_accs).mean()\n",
        "    batch_pred_counts =  [x['Count'] for x in outputs]\n",
        "    epoch_pred_counts = [t.item() for t in torch.stack(batch_pred_counts).sum(dim=0)]\n",
        "    return {'Loss': epoch_loss.item(), 'Acc': epoch_acc.item(), \"Count\": epoch_pred_counts}"
      ]
    },
    {
      "cell_type": "code",
      "execution_count": 4,
      "metadata": {},
      "outputs": [],
      "source": [
        "import torch.nn.functional as F\n",
        "\n",
        "@torch.no_grad()\n",
        "def evaluate_after_unlearning(model, val_loader):\n",
        "    model.eval()\n",
        "    outputs = [validation_step(model, batch) for batch in val_loader]\n",
        "    return validation_epoch_end(model, outputs)"
      ]
    },
    {
      "cell_type": "code",
      "execution_count": 5,
      "metadata": {},
      "outputs": [
        {
          "name": "stderr",
          "output_type": "stream",
          "text": [
            "  0%|                                                                             | 0/1 [00:00<?, ?it/s]"
          ]
        },
        {
          "name": "stdout",
          "output_type": "stream",
          "text": [
            "Train loss 1: 7057.12420241038,Train Acc:45.16511041439477%\n"
          ]
        },
        {
          "name": "stderr",
          "output_type": "stream",
          "text": [
            "100%|█████████████████████████████████████████████████████████████████████| 1/1 [00:03<00:00,  3.37s/it]\n"
          ]
        },
        {
          "name": "stdout",
          "output_type": "stream",
          "text": [
            "Best hyperparams: LR=12, grad clip=22, ratio=1.5 | Best retain acc: 97.17997312545776\n",
            "CPU times: user 2.99 s, sys: 376 ms, total: 3.37 s\n",
            "Wall time: 4.09 s\n"
          ]
        },
        {
          "data": {
            "text/plain": [
              "<All keys matched successfully>"
            ]
          },
          "execution_count": 5,
          "metadata": {},
          "output_type": "execute_result"
        }
      ],
      "source": [
        "%%time\n",
        "from tqdm import tqdm\n",
        "\n",
        "\n",
        "lrs = [12]\n",
        "clips = [22]\n",
        "ratios = [1.5]\n",
        "\n",
        "# The following search candidates take a few minutes to run through\n",
        "# lrs = [7,8,9,10,11,12,13,14]\n",
        "# clips = [17,18,19,20,21,22,23,24]\n",
        "# ratios = [0.8,1,1.5]\n",
        "\n",
        "\n",
        "best_retain_acc = 0\n",
        "\n",
        "unlearned_model_name = \"DBpedia_fast_unlearned.pt\"\n",
        "\n",
        "for lr in tqdm(lrs):\n",
        "    for clip in clips:\n",
        "        for ratio in ratios:\n",
        "            ensure_deterministic()\n",
        "            \n",
        "            noisy_loader = build_noisy_dl(\n",
        "                retain_samples,\n",
        "                noisy_data,\n",
        "                dbpedia_vocab,\n",
        "                retain_to_forget_ratio=ratio,\n",
        "            )\n",
        "            unlearning_model = TextClassificationModel(vocab_size).to(DEVICE)\n",
        "            unlearning_model.load_state_dict(torch.load(baseline_name))\n",
        "\n",
        "            optimizer = torch.optim.SGD(unlearning_model.parameters(), lr = lr)\n",
        "\n",
        "\n",
        "            unlearning_model.train(True)\n",
        "            for epoch in range(1):\n",
        "                running_loss = 0.0\n",
        "                running_acc = 0\n",
        "                num_batches = len(noisy_loader)\n",
        "                \n",
        "                for i, data in enumerate(noisy_loader):\n",
        "                    labels, inputs, offsets = data\n",
        "\n",
        "                    optimizer.zero_grad()\n",
        "                    outputs = unlearning_model(inputs,offsets)\n",
        "                    loss = unlearning_model.criterion(outputs, labels)\n",
        "                    loss.backward()\n",
        "                    torch.nn.utils.clip_grad_norm_(unlearning_model.parameters(), clip)\n",
        "                    optimizer.step()\n",
        "\n",
        "                    running_loss += loss.item()\n",
        "                    out = torch.argmax(outputs.detach(),dim=1)\n",
        "                    running_acc += (labels==out).sum().item()/labels.size(0)\n",
        "                print(f\"Train loss {epoch+1}: {running_loss/num_batches},Train Acc:{running_acc*100/num_batches}%\")\n",
        "                forget_acc = evaluate_after_unlearning(unlearning_model, forget_valid_dl)[\"Acc\"]*100\n",
        "                if forget_acc == 0.0:\n",
        "                    retain_acc = evaluate_after_unlearning(unlearning_model, retain_valid_dl)[\"Acc\"]*100\n",
        "                    if retain_acc > best_retain_acc:\n",
        "                        best_retain_acc = retain_acc\n",
        "                        best_lr = lr\n",
        "                        best_clip = clip\n",
        "                        best_ratio = ratio\n",
        "                        torch.save(unlearning_model.state_dict(), unlearned_model_name)\n",
        "\n",
        "print(\n",
        "    f\"Best hyperparams: LR={best_lr}, grad clip={best_clip}, \"\n",
        "    f\"ratio={best_ratio} | Best retain acc: {best_retain_acc}\"\n",
        ")\n",
        "unlearning_model = TextClassificationModel(vocab_size).to(DEVICE)\n",
        "unlearning_model.load_state_dict(torch.load(unlearned_model_name))"
      ]
    },
    {
      "cell_type": "code",
      "execution_count": 6,
      "metadata": {},
      "outputs": [
        {
          "name": "stdout",
          "output_type": "stream",
          "text": [
            "Performance of Standard Forget Model on Forget Class\n",
            "Accuracy: 0.0\n",
            "Loss: 65.21173095703125\n",
            "Performance of Standard Forget Model on Retain Class\n",
            "Accuracy: 97.18648195266724\n",
            "Loss: 0.41868990659713745\n"
          ]
        }
      ],
      "source": [
        "print(\"Performance of Standard Forget Model on Forget Class\")\n",
        "history = [evaluate_after_unlearning(unlearning_model, forget_valid_dl)]\n",
        "print(\"Accuracy: {}\".format(history[0][\"Acc\"]*100))\n",
        "print(\"Loss: {}\".format(history[0][\"Loss\"]))\n",
        "\n",
        "print(\"Performance of Standard Forget Model on Retain Class\")\n",
        "history = [evaluate_after_unlearning(unlearning_model, retain_valid_dl)]\n",
        "print(\"Accuracy: {}\".format(history[0][\"Acc\"]*100))\n",
        "print(\"Loss: {}\".format(history[0][\"Loss\"]))"
      ]
    },
    {
      "cell_type": "code",
      "execution_count": 79,
      "metadata": {},
      "outputs": [
        {
          "name": "stdout",
          "output_type": "stream",
          "text": [
            "Test on Forget Class\n",
            "Yes, accuracy is zero\n",
            "Accuracy: 0.0\n",
            "Loss: 64.7260971069336\n"
          ]
        },
        {
          "data": {
            "image/png": "[encoded data removed]",
            "text/plain": [
              "<Figure size 640x480 with 1 Axes>"
            ]
          },
          "metadata": {},
          "output_type": "display_data"
        },
        {
          "name": "stdout",
          "output_type": "stream",
          "text": [
            "Test on Retain Class\n",
            "Accuracy: 96.83011770248413\n",
            "Loss: 0.28806474804878235\n"
          ]
        }
      ],
      "source": [
        "from nlp_fast_unlearning.utils import dbpedia_class_dict\n",
        "import seaborn as sns\n",
        "from matplotlib import pyplot as plt\n",
        "\n",
        "\n",
        "print(\"Test on Forget Class\")\n",
        "history = [evaluate_after_unlearning(unlearning_model, forget_test_dl)]\n",
        "if history[0][\"Acc\"]==0:\n",
        "    print(\"Yes, accuracy is zero\")\n",
        "print(\"Accuracy: {}\".format(history[0][\"Acc\"]*100))\n",
        "print(\"Loss: {}\".format(history[0][\"Loss\"]))\n",
        "pred_counts = history[0]['Count']\n",
        "ax = sns.barplot(x=np.arange(len(pred_counts)), y=pred_counts)\n",
        "ax.bar_label(ax.containers[0])\n",
        "plt.xticks(np.arange(len(pred_counts)),dbpedia_class_dict.values())\n",
        "plt.xticks(rotation=45, ha='right')\n",
        "plt.savefig('13_preddist.png', dpi=300,bbox_inches = \"tight\")\n",
        "plt.show()\n",
        "\n",
        "print(\"Test on Retain Class\")\n",
        "history = [evaluate_after_unlearning(unlearning_model, retain_test_dl)]\n",
        "print(\"Accuracy: {}\".format(history[0][\"Acc\"]*100))\n",
        "print(\"Loss: {}\".format(history[0][\"Loss\"]))"
      ]
    },
    {
      "cell_type": "code",
      "execution_count": 8,
      "metadata": {},
      "outputs": [
        {
          "data": {
            "text/plain": [
              "<All keys matched successfully>"
            ]
          },
          "execution_count": 8,
          "metadata": {},
          "output_type": "execute_result"
        }
      ],
      "source": [
        "baseline_model = TextClassificationModel(vocab_size).to(DEVICE)\n",
        "baseline_model.load_state_dict(torch.load(baseline_name))"
      ]
    },
    {
      "cell_type": "code",
      "execution_count": 9,
      "metadata": {},
      "outputs": [
        {
          "name": "stdout",
          "output_type": "stream",
          "text": [
            "Baseline test on Forget Class\n",
            "Accuracy: 95.4882800579071\n",
            "Loss: 0.15926113724708557\n",
            "Baseline test on Retain Class\n",
            "Accuracy: 98.33388328552246\n",
            "Loss: 0.06146768108010292\n"
          ]
        }
      ],
      "source": [
        "print(\"Baseline test on Forget Class\")\n",
        "history = [evaluate_after_unlearning(baseline_model, forget_test_dl)]\n",
        "print(\"Accuracy: {}\".format(history[0][\"Acc\"]*100))\n",
        "print(\"Loss: {}\".format(history[0][\"Loss\"]))\n",
        "\n",
        "print(\"Baseline test on Retain Class\")\n",
        "history = [evaluate_after_unlearning(baseline_model, retain_test_dl)]\n",
        "print(\"Accuracy: {}\".format(history[0][\"Acc\"]*100))\n",
        "print(\"Loss: {}\".format(history[0][\"Loss\"]))"
      ]
    },
    {
      "cell_type": "code",
      "execution_count": 35,
      "metadata": {},
      "outputs": [
        {
          "name": "stdout",
          "output_type": "stream",
          "text": [
            "Searching for error maximizing noise for class  13\n",
            "Got loss 228.0972137451172 for tensor([101, 101, 101, 101, 101, 101, 101, 101, 101, 101, 101, 101, 101, 101,\n",
            "        101, 101, 101, 101, 101, 101, 101, 101, 101, 101, 101, 101, 101, 101,\n",
            "        101, 101, 101, 101, 101, 101, 101, 101, 101, 101, 101, 101, 101, 101,\n",
            "        101, 101, 101, 101, 101, 101, 101, 101, 101, 101, 101, 101, 101, 101,\n",
            "        101, 101, 101, 101, 101, 101, 101, 101, 101, 101, 101, 101, 101, 101,\n",
            "        101, 101, 101, 101, 101, 101, 101, 101, 101, 101, 101, 101, 101, 101,\n",
            "        101, 101, 101, 101, 101, 101, 101, 101, 101, 101, 101, 101, 101, 101,\n",
            "        101, 101], device='cuda:0')\n"
          ]
        }
      ],
      "source": [
        "import numpy as np\n",
        "\n",
        "ensure_deterministic()\n",
        "best_noise = {}\n",
        "classes_to_forget=[13]\n",
        "\n",
        "max_noise_token = int(dbpedia_vocab.vocab_size)\n",
        "search_len = int(dbpedia_vocab.vocab_size * 0.5)\n",
        "search_space = np.random.permutation(max_noise_token)[:search_len]\n",
        "baseline_model.train(False)\n",
        "for class_id in classes_to_forget:\n",
        "    best_loss = 0\n",
        "    print(\"Searching for error maximizing noise for class \", class_id)\n",
        "    with torch.no_grad():\n",
        "        for noise_token in search_space:\n",
        "            inputs = noise_token * torch.ones((1, 100)).long()\n",
        "            labels = torch.zeros(1).long() + class_id\n",
        "            labels, inputs, offsets = dbpedia_vocab.collate_batch(zip(labels, inputs))\n",
        "            outputs = baseline_model(inputs, offsets)\n",
        "            loss = baseline_model.criterion(outputs, labels)\n",
        "            if loss.item() > best_loss:\n",
        "                best_noise[class_id] = inputs\n",
        "                best_loss = loss.item()\n",
        "    print(f\"Got loss {best_loss} for {best_noise[class_id]}\")\n"
      ]
    },
    {
      "cell_type": "code",
      "execution_count": 36,
      "metadata": {},
      "outputs": [
        {
          "name": "stdout",
          "output_type": "stream",
          "text": [
            "Searching for error maximizing noise for class  13\n",
            "Got loss 7.431220531463623 for tensor([647529, 653034, 719545, 605588, 459021, 671763, 600991, 437676, 475107,\n",
            "        490243, 246237,   7876, 422932, 378525, 754004, 646097,  94371, 538221,\n",
            "        534344,  45194, 729873, 795262, 239783, 271755, 541839, 269401, 543542,\n",
            "        318880, 654918, 239547, 310176, 501957, 679786, 393241, 423611,  33747,\n",
            "        736763, 112544, 583784, 571262,  93764,   3146,  54487, 733350, 744693,\n",
            "        643251, 561179, 325649, 388258, 308095, 483803, 743404, 677809, 213021,\n",
            "        335464, 507610, 190246, 533720, 314529, 559545, 399916, 582102, 251439,\n",
            "         56049, 698143, 633964, 395213, 732253,  17516, 194201, 749170, 628710,\n",
            "         62146, 598924, 484945, 297554, 269754, 136337, 449846, 529332, 166697,\n",
            "        548690, 417641, 191807, 583431, 483162, 261720, 516767, 543050, 644511,\n",
            "        341653, 498865, 299733, 226766,   9896, 505436, 509060, 318507, 732200,\n",
            "        517116], device='cuda:0')\n"
          ]
        }
      ],
      "source": [
        "import numpy as np\n",
        "\n",
        "ensure_deterministic()\n",
        "best_noise = {}\n",
        "classes_to_forget=[13]\n",
        "\n",
        "max_noise_token = int(dbpedia_vocab.vocab_size)\n",
        "search_len = int(dbpedia_vocab.vocab_size * 0.5)\n",
        "baseline_model.train(False)\n",
        "for class_id in classes_to_forget:\n",
        "    best_loss = 0\n",
        "    print(\"Searching for error maximizing noise for class \", class_id)\n",
        "    with torch.no_grad():\n",
        "        for _ in range(search_len):\n",
        "            inputs = torch.randint(low=0, high=max_noise_token, size=(1,100))\n",
        "            labels = torch.zeros(1).long() + class_id\n",
        "            labels, inputs, offsets = dbpedia_vocab.collate_batch(zip(labels, inputs))\n",
        "            outputs = baseline_model(inputs, offsets)\n",
        "            loss = baseline_model.criterion(outputs, labels)\n",
        "            if loss.item() > best_loss:\n",
        "                best_noise[class_id] = inputs\n",
        "                best_loss = loss.item()\n",
        "    print(f\"Got loss {best_loss} for {best_noise[class_id]}\")\n"
      ]
    },
    {
      "cell_type": "code",
      "execution_count": 30,
      "metadata": {},
      "outputs": [
        {
          "name": "stdout",
          "output_type": "stream",
          "text": [
            "tensor(31.5023, device='cuda:0')\n"
          ]
        }
      ],
      "source": [
        "with torch.no_grad():\n",
        "    inputs = torch.zeros((1, 100)).long()\n",
        "    labels = torch.zeros(1).long() + 13\n",
        "    labels, inputs, offsets = dbpedia_vocab.collate_batch(zip(labels, inputs))\n",
        "    outputs = baseline_model(inputs, offsets)\n",
        "    loss = baseline_model.criterion(outputs, labels)\n",
        "    print(loss)"
      ]
    },
    {
      "cell_type": "code",
      "execution_count": 82,
      "metadata": {},
      "outputs": [],
      "source": [
        "from torchtext.datasets import DBpedia\n",
        "\n",
        "train_split, test_split = DBpedia()"
      ]
    },
    {
      "cell_type": "code",
      "execution_count": 92,
      "metadata": {},
      "outputs": [
        {
          "name": "stderr",
          "output_type": "stream",
          "text": [
            "/hdd/subrata/TinyML/venv/lib/python3.8/site-packages/torch/utils/data/datapipes/iter/combining.py:297: UserWarning: Some child DataPipes are not exhausted when __iter__ is called. We are resetting the buffer and each child DataPipe will read from the start again.\n",
            "  warnings.warn(\"Some child DataPipes are not exhausted when __iter__ is called. We are resetting \"\n"
          ]
        },
        {
          "data": {
            "text/plain": [
              "(1,\n",
              " 'E. D. Abbott Ltd  Abbott of Farnham E D Abbott Limited was a British coachbuilding business based in Farnham Surrey trading under that name from 1929. A major part of their output was under sub-contract to motor vehicle manufacturers. Their business closed in 1972.')"
            ]
          },
          "execution_count": 92,
          "metadata": {},
          "output_type": "execute_result"
        }
      ],
      "source": [
        "next(iter(train_split))"
      ]
    },
    {
      "cell_type": "code",
      "execution_count": null,
      "metadata": {},
      "outputs": [],
      "source": []
    }
  ],
  "metadata": {
    "kernelspec": {
      "display_name": "Python 3 (ipykernel)",
      "language": "python",
      "name": "python3"
    },
    "language_info": {
      "codemirror_mode": {
        "name": "ipython",
        "version": 3
      },
      "file_extension": ".py",
      "mimetype": "text/x-python",
      "name": "python",
      "nbconvert_exporter": "python",
      "pygments_lexer": "ipython3",
      "version": "3.8.10"
    }
  },
  "nbformat": 4,
  "nbformat_minor": 0
}
