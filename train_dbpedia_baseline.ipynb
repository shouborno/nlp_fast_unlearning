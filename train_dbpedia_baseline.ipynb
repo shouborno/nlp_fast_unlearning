{
  "cells": [
    {
      "cell_type": "code",
      "execution_count": 1,
      "metadata": {
        "collapsed": false
      },
      "outputs": [],
      "source": [
        "from nlp_fast_unlearning.utils import prepare_dbpedia, ensure_deterministic, DEVICE, BATCH_SIZE\n",
        "\n",
        "\n",
        "train_dataloader, val_dataloader, test_dataloader, vocab_size = prepare_dbpedia(for_baseline_only=True)"
      ]
    },
    {
      "cell_type": "code",
      "execution_count": 2,
      "metadata": {},
      "outputs": [],
      "source": [
        "from nlp_fast_unlearning.baseline_model import TextClassificationModel\n",
        "\n",
        "\n",
        "model = TextClassificationModel(vocab_size).to(DEVICE)"
      ]
    },
    {
      "cell_type": "code",
      "execution_count": 3,
      "metadata": {},
      "outputs": [],
      "source": [
        "import time\n",
        "\n",
        "def train(dataloader, model=model, neggrad=False, log_interval = 1000):\n",
        "    model.train()\n",
        "    total_acc, total_count = 0, 0\n",
        "    start_time = time.time()\n",
        "\n",
        "    total_loss=0\n",
        "    for idx, (label, text, offsets) in enumerate(dataloader):\n",
        "        optimizer.zero_grad()\n",
        "        predicted_label = model(text, offsets)\n",
        "        if neggrad is True:\n",
        "            loss = -criterion(predicted_label, label)\n",
        "        else:\n",
        "            loss = criterion(predicted_label, label)\n",
        "        loss.backward()\n",
        "        if neggrad is False:\n",
        "            torch.nn.utils.clip_grad_norm_(model.parameters(), 0.1)\n",
        "        optimizer.step()\n",
        "        total_acc += (predicted_label.argmax(1) == label).sum().item()\n",
        "        total_count += label.size(0)\n",
        "        total_loss+=loss.item()\n",
        "        if idx % log_interval == 0 and idx > 0:\n",
        "            elapsed = time.time() - start_time\n",
        "            print(\n",
        "                \"| epoch {:3d} | {:5d}/{:5d} batches \"\n",
        "                \"| loss {:8.6f}\".format(\n",
        "                    epoch, idx, len(dataloader), total_loss / total_count\n",
        "                )\n",
        "            )\n",
        "            total_acc, total_count = 0, 0\n",
        "            start_time = time.time()\n",
        "\n",
        "\n",
        "def evaluate(dataloader, model=model):\n",
        "    model.eval()\n",
        "    total_acc, total_count = 0, 0\n",
        "\n",
        "    with torch.no_grad():\n",
        "        for idx, (label, text, offsets) in enumerate(dataloader):\n",
        "            predicted_label = model(text, offsets)\n",
        "            loss = criterion(predicted_label, label)\n",
        "            total_acc += (predicted_label.argmax(1) == label).sum().item()\n",
        "            total_count += label.size(0)\n",
        "    return total_acc / total_count"
      ]
    },
    {
      "cell_type": "code",
      "execution_count": 4,
      "metadata": {},
      "outputs": [],
      "source": [
        "import torch\n",
        "\n",
        "EPOCHS = 10\n",
        "LR = 5\n",
        "\n",
        "criterion = model.criterion\n",
        "optimizer = torch.optim.SGD(model.parameters(), lr=LR)\n",
        "scheduler = torch.optim.lr_scheduler.StepLR(optimizer, 1.0, gamma=0.1)\n",
        "total_accu = None"
      ]
    },
    {
      "cell_type": "code",
      "execution_count": 5,
      "metadata": {},
      "outputs": [
        {
          "name": "stdout",
          "output_type": "stream",
          "text": [
            "| epoch   1 |  1000/ 2079 batches | loss 0.002248\n",
            "| epoch   1 |  2000/ 2079 batches | loss 0.002902\n",
            "-----------------------------------------------------------\n",
            "| end of epoch   1 | time: 31.31s | valid accuracy    0.964 \n",
            "-----------------------------------------------------------\n",
            "| epoch   2 |  1000/ 2079 batches | loss 0.000468\n",
            "| epoch   2 |  2000/ 2079 batches | loss 0.000872\n",
            "-----------------------------------------------------------\n",
            "| end of epoch   2 | time: 30.53s | valid accuracy    0.971 \n",
            "-----------------------------------------------------------\n",
            "| epoch   3 |  1000/ 2079 batches | loss 0.000350\n",
            "| epoch   3 |  2000/ 2079 batches | loss 0.000674\n",
            "-----------------------------------------------------------\n",
            "| end of epoch   3 | time: 30.55s | valid accuracy    0.976 \n",
            "-----------------------------------------------------------\n",
            "| epoch   4 |  1000/ 2079 batches | loss 0.000289\n",
            "| epoch   4 |  2000/ 2079 batches | loss 0.000578\n",
            "-----------------------------------------------------------\n",
            "| end of epoch   4 | time: 30.59s | valid accuracy    0.977 \n",
            "-----------------------------------------------------------\n",
            "| epoch   5 |  1000/ 2079 batches | loss 0.000258\n",
            "| epoch   5 |  2000/ 2079 batches | loss 0.000511\n",
            "-----------------------------------------------------------\n",
            "| end of epoch   5 | time: 30.50s | valid accuracy    0.979 \n",
            "-----------------------------------------------------------\n",
            "| epoch   6 |  1000/ 2079 batches | loss 0.000233\n",
            "| epoch   6 |  2000/ 2079 batches | loss 0.000463\n",
            "-----------------------------------------------------------\n",
            "| end of epoch   6 | time: 30.52s | valid accuracy    0.980 \n",
            "-----------------------------------------------------------\n",
            "| epoch   7 |  1000/ 2079 batches | loss 0.000213\n",
            "| epoch   7 |  2000/ 2079 batches | loss 0.000422\n",
            "-----------------------------------------------------------\n",
            "| end of epoch   7 | time: 30.52s | valid accuracy    0.980 \n",
            "-----------------------------------------------------------\n",
            "| epoch   8 |  1000/ 2079 batches | loss 0.000194\n",
            "| epoch   8 |  2000/ 2079 batches | loss 0.000390\n",
            "-----------------------------------------------------------\n",
            "| end of epoch   8 | time: 30.52s | valid accuracy    0.981 \n",
            "-----------------------------------------------------------\n",
            "| epoch   9 |  1000/ 2079 batches | loss 0.000182\n",
            "| epoch   9 |  2000/ 2079 batches | loss 0.000363\n",
            "-----------------------------------------------------------\n",
            "| end of epoch   9 | time: 30.51s | valid accuracy    0.980 \n",
            "-----------------------------------------------------------\n",
            "| epoch  10 |  1000/ 2079 batches | loss 0.000164\n",
            "| epoch  10 |  2000/ 2079 batches | loss 0.000328\n",
            "-----------------------------------------------------------\n",
            "| end of epoch  10 | time: 30.60s | valid accuracy    0.981 \n",
            "-----------------------------------------------------------\n"
          ]
        }
      ],
      "source": [
        "ensure_deterministic()\n",
        "\n",
        "\n",
        "for epoch in range(1, EPOCHS + 1):\n",
        "    epoch_start_time = time.time()\n",
        "    train(train_dataloader)\n",
        "    accu_val = evaluate(val_dataloader)\n",
        "    if total_accu is not None and total_accu > accu_val:\n",
        "        scheduler.step()\n",
        "    else:\n",
        "        total_accu = accu_val\n",
        "    print(\"-\" * 59)\n",
        "    print(\n",
        "        \"| end of epoch {:3d} | time: {:5.2f}s | \"\n",
        "        \"valid accuracy {:8.3f} \".format(\n",
        "            epoch, time.time() - epoch_start_time, accu_val\n",
        "        )\n",
        "    )\n",
        "    print(\"-\" * 59)"
      ]
    },
    {
      "cell_type": "code",
      "execution_count": 6,
      "metadata": {},
      "outputs": [
        {
          "name": "stdout",
          "output_type": "stream",
          "text": [
            "Checking the results of test dataset.\n",
            "test accuracy 97.93429\n"
          ]
        }
      ],
      "source": [
        "print(\"Checking the results of test dataset.\")\n",
        "accu_test = evaluate(test_dataloader)\n",
        "print(\"test accuracy {:8.5f}\".format(accu_test*100))"
      ]
    },
    {
      "cell_type": "code",
      "execution_count": 7,
      "metadata": {},
      "outputs": [],
      "source": [
        "baseline_name = \"DBpedia_baseline.pt\"\n",
        "torch.save(model.state_dict(), baseline_name)"
      ]
    }
  ],
  "metadata": {
    "kernelspec": {
      "display_name": "Python 3 (ipykernel)",
      "language": "python",
      "name": "python3"
    },
    "language_info": {
      "codemirror_mode": {
        "name": "ipython",
        "version": 3
      },
      "file_extension": ".py",
      "mimetype": "text/x-python",
      "name": "python",
      "nbconvert_exporter": "python",
      "pygments_lexer": "ipython3",
      "version": "3.8.10"
    }
  },
  "nbformat": 4,
  "nbformat_minor": 0
}
